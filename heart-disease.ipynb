# first neural network with keras make predictions
import numpy as np
from numpy import loadtxt
from keras.models import Sequential
from keras.layers import Dense,Dropout
from sklearn.model_selection import train_test_split
import matplotlib.pyplot as plt
from sklearn.metrics import confusion_matrix,auc,roc_curve
from sklearn import metrics




# load the dataset
dataset = loadtxt('cardio_train.csv', delimiter=',')

# split into input (X) and output (y) variables
X = dataset[:,0:12]
y = dataset[:,12]

X_train, X_test, y_train, y_test = train_test_split(X, y, test_size=0.3334, random_state=42, shuffle= True)
print(X_train.shape, y_train.shape, X_test.shape, y_test.shape)


# define the keras model
model = Sequential()
#primeira camada
model.add(Dense(100, input_dim=X.shape[1], activation='relu', name="camada1"))

#dropout de 0.1
model.add(Dropout(0.1))

#segunda camada
model.add(Dense(33, activation='relu',name="camada2"))

#terceiracamada
model.add(Dense(11, activation='relu',name="camada3"))

#output
model.add(Dense(1, activation='sigmoid', name="output"))

# compile the keras model
model.compile(loss='binary_crossentropy', optimizer='adam', metrics=['accuracy'])

# fit model
history = model.fit(X_train, y_train, validation_data=(X_test, y_test), epochs=250, batch_size=100)
print(history.history.keys())

#desempenho accuracy
plt.plot(history.history['accuracy'])
plt.plot(history.history['val_accuracy'])
plt.title('model_accuracy')
plt.ylabel('accuracy')
plt.xlabel('epoch')
plt.legend(['train', 'test'], loc='upper left')
plt.show()

#grafico desempenho do loss
plt.plot(history.history['loss'])
plt.plot(history.history['val_loss'])
plt.title('model_loss')
plt.ylabel('loss')
plt.xlabel('epoch')
plt.legend(['train', 'test'], loc='upper left')
plt.show()

#evaluate model

#_, accuracy = model.evaluate(X_test, y_test)
#print('Accuracy: %.2f' % (accuracy*100))
pred = model.predict_classes(X_test)
print(pred)




pred = model.predict_classes(X_test)
# print(pred)

tn, fp, fn, tp = confusion_matrix(y_test, pred).ravel()

tpr = tp / (tp+fn)
tnr = tn / (tn+fp)

print('TPR: ', tpr)
print('TNR: ', tnr)

fpr, tpr_roc, threshold = roc_curve(y_test, pred, pos_label=1)

auc = auc(fpr, tpr_roc)

plt.plot([0,1], [0,1], linestyle='--', lw=2, color='r', label='Chance', alpha=.8)
plt.plot(fpr,tpr_roc, color='b', label=r'ROC (AUC = %0.2f)' % (auc), lw=2, alpha=.8)
plt.suptitle("ROC Curve")
plt.xlabel('FPR')
plt.ylabel('TPR')
plt.legend(loc="lower right")
plt.show()


